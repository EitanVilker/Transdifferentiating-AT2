{
 "cells": [
  {
   "cell_type": "markdown",
   "id": "4d0fbd69-6275-4dd7-bae9-14a09db90bec",
   "metadata": {},
   "source": [
    "# scTOP Vignette 2- Constructing Reference Bases"
   ]
  },
  {
   "cell_type": "code",
   "execution_count": null,
   "id": "98def0c8-afb9-4283-97f4-2a388f0b4c18",
   "metadata": {},
   "outputs": [],
   "source": [
    "# Load libraries\n",
    "import sctop as top\n",
    "import pandas as pd\n",
    "import numpy as np\n",
    "import matplotlib.pyplot as plt\n",
    "import seaborn as sns\n",
    "%load_ext autoreload\n",
    "%autoreload 1\n",
    "%aimport SimilarityHelper\n",
    "%aimport TopObject\n",
    "%aimport CriticalityHelper\n",
    "pio.renderers.default = 'notebook'"
   ]
  },
  {
   "cell_type": "markdown",
   "id": "f57f80e9-e5ab-4741-bf49-420a7a42982e",
   "metadata": {},
   "source": [
    "## Load new dataset and set as basis"
   ]
  },
  {
   "cell_type": "code",
   "execution_count": null,
   "id": "7b726b10-d6f3-4d74-a9ff-49310b3d5ae0",
   "metadata": {},
   "outputs": [],
   "source": [
    "kathiriyaObj = TopObject.TopObject(\"Kathiriya\", manualInit=False)\n",
    "kathiryaObj.setBasis() # This doesn't stop you from using it as a source still, just fills in the basis attribute of the object"
   ]
  },
  {
   "cell_type": "markdown",
   "id": "00194902-3caf-401f-8225-75137e357b60",
   "metadata": {},
   "source": [
    "## Test basis columns"
   ]
  },
  {
   "cell_type": "code",
   "execution_count": null,
   "id": "cb6afc96-6e15-47b7-b835-868db1b79a7e",
   "metadata": {},
   "outputs": [],
   "source": [
    "# This test may take some time, but you should end up with an overall acuracy and be able to determine which annotations had performance problems. A good basis should have top1 accuracy > 80%\n",
    "kathiriyaObj.testBasis()"
   ]
  },
  {
   "cell_type": "code",
   "execution_count": null,
   "id": "51f810f1-a76c-4b64-853f-396890b85948",
   "metadata": {},
   "outputs": [],
   "source": [
    "# You can also generate a correlation matrix to test if there are any basis columns that are overly similar. Values are very high so it's hard to use, however\n",
    "kathiriyaObj.getBasisCorrelations()\n",
    "SimilarityHelper.plotCorrelationMatrix(kathiriyaObj)"
   ]
  },
  {
   "cell_type": "markdown",
   "id": "84d086f8-4af4-42b7-be0a-ad3c090eb82c",
   "metadata": {},
   "source": [
    "## Load another dataset to test against this new basis"
   ]
  },
  {
   "cell_type": "code",
   "execution_count": null,
   "id": "9c6582f8-e92e-4e79-904b-80730ba8ad19",
   "metadata": {},
   "outputs": [],
   "source": [
    "habermannObj = TopObject.TopObject(\"Habermann\", manualInit=False) # Load object\n",
    "habermannObj.projectOntoBasis(kathiriyaObj.basis, \"Kathiriya\") # Construct projections"
   ]
  },
  {
   "cell_type": "code",
   "execution_count": null,
   "id": "3db25680-ba34-4d05-9db2-d679d6b8d6ee",
   "metadata": {},
   "outputs": [],
   "source": [
    "# Now plot exactly as before\n",
    "axis1 = \"bABI2\"\n",
    "axis2 = \"cABI1\"\n",
    "includeCriteria = habermannObj.annotations.isin(habermannObj.toKeep)\n",
    "fig, ax = plt.subplots(1, 1, figsize=(8,8))\n",
    "SimilarityHelper.plot_two(habermannObj.projections[\"Kathiriya\"],\n",
    "         axis1, axis2,\n",
    "         ax=ax, annotations=habermannObj.annotations, includeCriteria=includeCriteria,\n",
    "         similarityBounds = (-0.3, 0.6)\n",
    ")\n",
    "\n",
    "plt.title(\"Habermann vs Kathiriya Basis Similarity Plot (-0.3 to 0.6 axes)\")\n",
    "# plt.savefig('/Your/Path/Here.png')\n",
    "plt.show()"
   ]
  },
  {
   "cell_type": "markdown",
   "id": "4e831e4b-f584-475d-ad8f-a35b5b922ec4",
   "metadata": {},
   "source": [
    "## Combine two bases"
   ]
  },
  {
   "cell_type": "code",
   "execution_count": null,
   "id": "1c953c20-9a71-45d7-a97f-b35eb5f191cc",
   "metadata": {},
   "outputs": [],
   "source": [
    "# LungMAP will be our primary dataset, and so we'll want to select specific labels from Kathiriya to add to it\n",
    "humanBasisObj = TopObject.TopObject(\"LungMAP\", manualInit=False)\n",
    "humanBasisObj.combineBases(kathiriyaObj.basis, [axis1, axis2], combinedBasisName=\"LungMAP_Kathiriya\")\n",
    "# Now plot exactly as before\n",
    "habermannObj.projectOntoBasis(humanBasisObj.combinedBases[\"LungMAP_Kathiriya\"], \"LungMAP_Kathiriya\") # Construct projections"
   ]
  },
  {
   "cell_type": "code",
   "execution_count": null,
   "id": "720563af-4bec-4767-bf15-80a0f8b65619",
   "metadata": {},
   "outputs": [],
   "source": [
    "# Now plot against the same axes, but with the hopefully more informed background information provided by LungMAP (axes can be in any combination from the bases)\n",
    "axis1 = \"bABI2\"\n",
    "axis2 = \"cABI1\"\n",
    "includeCriteria = habermannObj.annotations.isin(habermannObj.toKeep)\n",
    "fig, ax = plt.subplots(1, 1, figsize=(8,8))\n",
    "SimilarityHelper.plot_two(habermannObj.projections[\"LungMAP_Kathiriya\"], # Only change is to the identity of the projection\n",
    "         axis1, axis2,\n",
    "         ax=ax, annotations=habermannObj.annotations, includeCriteria=includeCriteria,\n",
    "         similarityBounds = (-0.3, 0.6)\n",
    ")\n",
    "\n",
    "plt.title(\"Habermann vs LungMAP + Kathiriya Basis Similarity Plot (-0.3 to 0.6 axes)\")\n",
    "# plt.savefig('/Your/Path/Here.png')\n",
    "plt.show()"
   ]
  }
 ],
 "metadata": {
  "kernelspec": {
   "display_name": "KottonLab",
   "language": "python",
   "name": "kottonlab"
  },
  "language_info": {
   "codemirror_mode": {
    "name": "ipython",
    "version": 3
   },
   "file_extension": ".py",
   "mimetype": "text/x-python",
   "name": "python",
   "nbconvert_exporter": "python",
   "pygments_lexer": "ipython3",
   "version": "3.10.16"
  }
 },
 "nbformat": 4,
 "nbformat_minor": 5
}
